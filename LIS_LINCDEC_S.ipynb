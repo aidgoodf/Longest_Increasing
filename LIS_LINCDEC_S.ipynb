{
 "cells": [
  {
   "cell_type": "markdown",
   "id": "63b1ba9a",
   "metadata": {},
   "source": [
    "\n",
    "## Aidan Goodfellow"
   ]
  },
  {
   "cell_type": "code",
   "execution_count": 25,
   "id": "194192f0",
   "metadata": {},
   "outputs": [],
   "source": [
    "def LIS(A):\n",
    "    n = len(A)\n",
    "    \n",
    "    # lengths[i] will store the length of the LIS ending at index i\n",
    "    lengths = [1] * n\n",
    "    \n",
    "    # prev[i] will store the index of the previous element in the LIS ending at index i\n",
    "    prev = [-1] * n\n",
    "    \n",
    "    # Find the length of the LIS for each element\n",
    "    for i in range(1, n):\n",
    "        for j in range(i):\n",
    "            if A[i] > A[j] and lengths[i] < lengths[j] + 1:\n",
    "                lengths[i] = lengths[j] + 1\n",
    "                prev[i] = j\n",
    "    \n",
    "    # Find the index of the maximum length\n",
    "    max_index = lengths.index(max(lengths))\n",
    "    \n",
    "    # Reconstruct the LIS\n",
    "    B = []\n",
    "    while max_index != -1:\n",
    "        B.append(A[max_index])\n",
    "        max_index = prev[max_index]\n",
    "    \n",
    "    B = B[::-1]  # Reverse to get the correct order\n",
    "    print(\"Length of LIS:\", len(B))\n",
    "    return B\n"
   ]
  },
  {
   "cell_type": "code",
   "execution_count": 26,
   "id": "fd279723",
   "metadata": {},
   "outputs": [],
   "source": [
    "def INC_DEC(A):\n",
    "    n = len(A)\n",
    "    \n",
    "    # inc[i] stores the length of the longest increasing subsequence ending at i\n",
    "    # dec[i] stores the length of the longest decreasing subsequence starting from i\n",
    "    inc = [1] * n\n",
    "    dec = [1] * n\n",
    "    \n",
    "    prev_inc = [-1] * n\n",
    "    prev_dec = [-1] * n\n",
    "    \n",
    "    # Compute inc[] values\n",
    "    for i in range(1, n):\n",
    "        for j in range(i):\n",
    "            if A[i] > A[j] and inc[i] < inc[j] + 1:\n",
    "                inc[i] = inc[j] + 1\n",
    "                prev_inc[i] = j\n",
    "                \n",
    "    # Compute dec[] values\n",
    "    for i in range(n-2, -1, -1):\n",
    "        for j in range(n-1, i, -1):\n",
    "            if A[i] > A[j] and dec[i] < dec[j] + 1:\n",
    "                dec[i] = dec[j] + 1\n",
    "                prev_dec[i] = j\n",
    "                \n",
    "    # Find the end index of the inc/dec subsequence\n",
    "    end_idx = 0\n",
    "    max_len = inc[0] + dec[0] - 1\n",
    "    for i in range(n):\n",
    "        if inc[i] + dec[i] - 1 > max_len:\n",
    "            max_len = inc[i] + dec[i] - 1\n",
    "            end_idx = i\n",
    "            \n",
    "    # Reconstruct the inc/dec subsequence\n",
    "    incdec_seq = []\n",
    "    \n",
    "    # First, the increasing part\n",
    "    idx = end_idx\n",
    "    while idx != -1:\n",
    "        incdec_seq.append(A[idx])\n",
    "        idx = prev_inc[idx]\n",
    "    \n",
    "    # Reverse to get the correct order for the increasing part\n",
    "    incdec_seq = incdec_seq[::-1]\n",
    "    \n",
    "    # Then, the decreasing part (excluding the peak element as it's already included)\n",
    "    idx = prev_dec[end_idx]\n",
    "    while idx != -1:\n",
    "        incdec_seq.append(A[idx])\n",
    "        idx = prev_dec[idx]\n",
    "    \n",
    "    print(\"Length of Longest inc/dec Subsequence:\", max_len)\n",
    "    return incdec_seq\n",
    "\n"
   ]
  },
  {
   "cell_type": "code",
   "execution_count": 27,
   "id": "5308ff07",
   "metadata": {},
   "outputs": [],
   "source": [
    "import ipytest\n",
    "ipytest.autoconfig()"
   ]
  },
  {
   "cell_type": "code",
   "execution_count": 28,
   "id": "abb7f53f",
   "metadata": {},
   "outputs": [
    {
     "name": "stdout",
     "output_type": "stream",
     "text": [
      "\u001b[32m.\u001b[0m\u001b[32m.\u001b[0m\u001b[32m                                                                                           [100%]\u001b[0m\n",
      "\u001b[32m\u001b[32m\u001b[1m2 passed\u001b[0m\u001b[32m in 0.01s\u001b[0m\u001b[0m\n"
     ]
    }
   ],
   "source": [
    "%%ipytest\n",
    "\n",
    "# test cases for py.test\n",
    "def testLis():\n",
    "    assert LIS([1, 5, 6]) == [1, 5, 6]\n",
    "    assert LIS([1, 5, 6, 4]) == [1, 5, 6]\n",
    "    assert LIS([1, 5, 6, 2, 3, 4, 7]) == [1, 2, 3, 4, 7]\n",
    "    assert LIS([1, 5, 2, 6, 3, 7, 4, 9, 8, 10]) == [1, 5, 6, 7, 9, 10]\n",
    "    assert LIS([0, 4, 2, 8, 22, 12, 3, 6, 5]) == [0, 4, 8, 22]\n",
    "\n",
    "def testIncDec():\n",
    "    assert INC_DEC([1, 5, 3]) == [1, 5, 3]\n",
    "    assert INC_DEC([1, 5, 6, 4]) == [1, 5, 6, 4]\n",
    "    assert INC_DEC([1, 5, 6, 3, 9, 4, 10, 2]) == [1, 5, 6, 9, 4, 2]\n",
    "    assert INC_DEC([1, 100, 200, 300, 80, 77, 70, 40, 30 , 120, 400, 500, 600, 700, 405, 800, 5, 4]) == [1, 100, 200, 300, 80, 77, 70, 40, 30, 5, 4]\n"
   ]
  },
  {
   "cell_type": "code",
   "execution_count": null,
   "id": "914c2df4",
   "metadata": {},
   "outputs": [],
   "source": []
  },
  {
   "cell_type": "code",
   "execution_count": null,
   "id": "68ba27ac",
   "metadata": {},
   "outputs": [],
   "source": []
  },
  {
   "cell_type": "code",
   "execution_count": null,
   "id": "f57c7d00",
   "metadata": {},
   "outputs": [],
   "source": []
  }
 ],
 "metadata": {
  "kernelspec": {
   "display_name": "Python 3",
   "language": "python",
   "name": "python3"
  },
  "language_info": {
   "codemirror_mode": {
    "name": "ipython",
    "version": 3
   },
   "file_extension": ".py",
   "mimetype": "text/x-python",
   "name": "python",
   "nbconvert_exporter": "python",
   "pygments_lexer": "ipython3",
   "version": "3.8.8"
  }
 },
 "nbformat": 4,
 "nbformat_minor": 5
}
